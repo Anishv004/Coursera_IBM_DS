{
 "cells": [
  {
   "cell_type": "markdown",
   "id": "6fc4d949-73ec-4b18-bbb1-2633826c8cca",
   "metadata": {},
   "source": [
    "# Data Science Tools and Ecosystem"
   ]
  },
  {
   "cell_type": "markdown",
   "id": "1c33c5f9-1e13-4137-a79a-f5d56df2ea2a",
   "metadata": {},
   "source": [
    "In this notebook, Data Science Tools and Ecosystem are summarized."
   ]
  },
  {
   "cell_type": "markdown",
   "id": "c165e3e1-aa1d-45dd-95ff-37b01dc60efc",
   "metadata": {},
   "source": [
    "**Objectives:**\n",
    "* Grasped a high level overview on various tools used in Data Science domain like R, Jupyter, Github etc.\n",
    "* Hands on Labs provided an additional advantage to grasp the content.\n",
    "* Learned the basics of R and its installation.\n",
    "* Got an hands on experience to use github branches and version control."
   ]
  },
  {
   "cell_type": "markdown",
   "id": "d6054bdb-efe5-4299-8d64-542cc082d536",
   "metadata": {},
   "source": [
    "Some of the popular languages that Data Scientists use are:\n",
    "\n",
    "1. Python\n",
    "1. R\n",
    "1. SQL"
   ]
  },
  {
   "cell_type": "markdown",
   "id": "545a4ce6-b7b8-47ff-961d-5ba77c971c80",
   "metadata": {},
   "source": [
    "Some of the commonly used libraries used by Data Scientists include:\n",
    "\n",
    "1. Numpy\n",
    "1. Pandas\n",
    "1. Matplotlib"
   ]
  },
  {
   "cell_type": "markdown",
   "id": "adc95108-f3e8-4d6b-8075-79d5d3f08703",
   "metadata": {},
   "source": [
    "| Data Science Tools |\n",
    "| :----------------: |\n",
    "| Jupyter Notebooks  |\n",
    "| RStudio |\n",
    "| Apache Zeppelin |"
   ]
  },
  {
   "cell_type": "markdown",
   "id": "7a654e3c-7db6-4e43-acb2-f3a4523e8914",
   "metadata": {},
   "source": [
    "### Below are a few examples of evaluating arithmetic expressions in Python"
   ]
  },
  {
   "cell_type": "code",
   "execution_count": 2,
   "id": "31100fbc-7965-4025-979e-c2e60b97771c",
   "metadata": {
    "tags": []
   },
   "outputs": [
    {
     "data": {
      "text/plain": [
       "17"
      ]
     },
     "execution_count": 2,
     "metadata": {},
     "output_type": "execute_result"
    }
   ],
   "source": [
    "# This a simple arithmetic expression to mutiply then add integers\n",
    "(3*4)+5"
   ]
  },
  {
   "cell_type": "code",
   "execution_count": 4,
   "id": "9414f766-111a-4936-968c-ccdd73d6228e",
   "metadata": {
    "tags": []
   },
   "outputs": [
    {
     "name": "stdout",
     "output_type": "stream",
     "text": [
      "3.33\n"
     ]
    }
   ],
   "source": [
    "# This will convert 200 minutes to hours by diving by 60\n",
    "minutes=200\n",
    "hours=round((minutes/60),2)\n",
    "print(hours)"
   ]
  },
  {
   "cell_type": "markdown",
   "id": "400a4302-510c-4485-9dea-41125a3ea99a",
   "metadata": {},
   "source": [
    "## Author\n",
    "Anish"
   ]
  }
 ],
 "metadata": {
  "kernelspec": {
   "display_name": "Python",
   "language": "python",
   "name": "conda-env-python-py"
  },
  "language_info": {
   "codemirror_mode": {
    "name": "ipython",
    "version": 3
   },
   "file_extension": ".py",
   "mimetype": "text/x-python",
   "name": "python",
   "nbconvert_exporter": "python",
   "pygments_lexer": "ipython3",
   "version": "3.7.12"
  }
 },
 "nbformat": 4,
 "nbformat_minor": 5
}
